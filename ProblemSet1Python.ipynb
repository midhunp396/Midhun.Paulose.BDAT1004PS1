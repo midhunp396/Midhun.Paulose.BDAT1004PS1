{
 "cells": [
  {
   "cell_type": "code",
   "execution_count": 1,
   "id": "d3a7ef84",
   "metadata": {},
   "outputs": [
    {
     "name": "stdout",
     "output_type": "stream",
     "text": [
      "appyhay\n",
      "enterway\n"
     ]
    }
   ],
   "source": [
    "#Question 6\n",
    "def pig(word):\n",
    "    lowerCaseWord = word.lower()\n",
    "    firstLetter = lowerCaseWord[0]\n",
    "    if firstLetter in 'aeiou':\n",
    "        return lowerCaseWord + \"way\"\n",
    "    else:\n",
    "        return lowerCaseWord[1:] + firstLetter + \"ay\"\n",
    "\n",
    "print(pig(\"happy\"))\n",
    "print(pig(\"Enter\"))"
   ]
  },
  {
   "cell_type": "code",
   "execution_count": 15,
   "id": "f7241848",
   "metadata": {},
   "outputs": [],
   "source": [
    "#Question 7\n",
    "def bldcount(name):\n",
    "    with open(name, 'r') as file:\n",
    "        bloodTypes = file.read().split()\n",
    "    bloodTypeCounts = {}\n",
    "    for bloodType in bloodTypes:\n",
    "        if bloodType in bloodTypeCounts:\n",
    "            bloodTypeCounts[bloodType] += 1\n",
    "        else:\n",
    "            bloodTypeCounts[bloodType] = 1\n",
    "    for bloodType, count in bloodTypeCounts.items():\n",
    "        if count == 1:\n",
    "            print(f\"There is one patient of blood type {bloodType}.\")\n",
    "        if count == 0:\n",
    "            print(f\"There are no patients of blood type {bloodType}.\")\n",
    "        else:\n",
    "            print(f\"There are {count} patients of blood type {bloodType}.\")\n",
    "\n"
   ]
  },
  {
   "cell_type": "code",
   "execution_count": 16,
   "id": "7bd5b9ad",
   "metadata": {},
   "outputs": [],
   "source": [
    "#Question 8\n",
    "def curconv(currency, amount):\n",
    "    exchange_rates = {}\n",
    "    with open(\"currencies.txt\", 'r') as file:\n",
    "        for line in file:\n",
    "            parts = line.strip().split(\"\\t\")\n",
    "            exchange_rates[parts[0]] = float(parts[1])\n",
    "    rate = exchange_rates[currency]\n",
    "    return amount * rate\n"
   ]
  },
  {
   "cell_type": "code",
   "execution_count": null,
   "id": "3be31cf2",
   "metadata": {},
   "outputs": [],
   "source": [
    "#Question 9\n",
    "#Trying to add incompatible variables, as in adding 6 + ‘a’: TypeError\n",
    "#Referring to the 12th item of a list that has only 10 items: Index Error\n",
    "#Using a value that is out of range for a function’s input, such as calling math.sqrt(-1.0): Value Error\n",
    "#Using an undeclared variable, such as print(x) when x has not been defined: Name Error\n",
    "#Trying to open a file that does not exist, such as mistyping the file name or looking in the wrong directory: FileNotFound Error"
   ]
  },
  {
   "cell_type": "code",
   "execution_count": 6,
   "id": "4fdb3b64",
   "metadata": {},
   "outputs": [
    {
     "name": "stdout",
     "output_type": "stream",
     "text": [
      "[1, 1, 1, 3, 5, 1, 1, 2, 1, 0, 1, 0, 1, 2, 4, 0, 1, 2, 0, 3, 1, 0, 1, 1, 0, 0]\n",
      "[1, 0, 0, 0, 1, 0, 0, 0, 0, 0, 0, 1, 0, 0, 0, 2, 0, 0, 0, 0, 0, 0, 0, 0, 0, 0]\n"
     ]
    }
   ],
   "source": [
    "#Question 10\n",
    "def count_alphabets(text):\n",
    "    alphabet_list = 'abcdefghijklmnopqrstuvwxyz'\n",
    "    count_list = [0] * 26\n",
    "    for char in text:\n",
    "        if char.lower() in alphabet_list:\n",
    "            index = alphabet_list.index(char.lower())\n",
    "            count_list[index] += 1\n",
    "    return count_list\n",
    "\n",
    "char_count = count_alphabets('The quick red fox got bored and went home.')\n",
    "print(char_count)\n",
    "\n",
    "word_count = count_alphabets('apple.')\n",
    "print(word_count)\n"
   ]
  },
  {
   "cell_type": "code",
   "execution_count": null,
   "id": "6eef77fc",
   "metadata": {},
   "outputs": [],
   "source": []
  }
 ],
 "metadata": {
  "kernelspec": {
   "display_name": "Python 3 (ipykernel)",
   "language": "python",
   "name": "python3"
  },
  "language_info": {
   "codemirror_mode": {
    "name": "ipython",
    "version": 3
   },
   "file_extension": ".py",
   "mimetype": "text/x-python",
   "name": "python",
   "nbconvert_exporter": "python",
   "pygments_lexer": "ipython3",
   "version": "3.9.13"
  }
 },
 "nbformat": 4,
 "nbformat_minor": 5
}
