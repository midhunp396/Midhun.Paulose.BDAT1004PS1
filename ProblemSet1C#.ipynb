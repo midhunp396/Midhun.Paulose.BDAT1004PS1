{
 "cells": [
  {
   "cell_type": "code",
   "execution_count": null,
   "id": "4d836ae3",
   "metadata": {},
   "outputs": [],
   "source": [
    "//Question 1\n",
    "//5 is an integer(int)\n",
    "//5.0 is a float datatype(float)\n",
    "//5>1 is a boolean\n",
    "//'5' is a character(char)\n",
    "//5*2 is an integer(int)\n",
    "//'5'*2 is an integer(int)\n",
    "//'5'+'2' is an integer(int)\n",
    "//5/2 is an integer(int)\n",
    "//5%2 is an integer(int)\n",
    "//{5,2,1} is an array\n",
    "//5==3 is a boolean\n",
    "//Pi(the number )is a float datatype(float)"
   ]
  },
  {
   "cell_type": "code",
   "execution_count": 9,
   "id": "c64d907e",
   "metadata": {},
   "outputs": [
    {
     "name": "stdout",
     "output_type": "stream",
     "text": [
      "The word 'Supercalifragilisticexpialidocious' has 34 letters.\n",
      "Does 'Supercalifragilisticexpialidocious' contain 'ice' as a substring? True\n",
      "The longest word is: Bababadalgharaghtakamminarronnkonn\n",
      "The first composer in the dictionary is: Bartok\n",
      "The last composer in the dictionary is: Buxtehude\n"
     ]
    }
   ],
   "source": [
    "//Question 2\n",
    "string wordA = \"Supercalifragilisticexpialidocious\";\n",
    "int letterCount = wordA.Length;\n",
    "Console.WriteLine(\"The word 'Supercalifragilisticexpialidocious' has \" + letterCount + \" letters.\");\n",
    "\n",
    "string wordB = \"Supercalifragilisticexpialidocious\";\n",
    "bool containsIce = wordB.Contains(\"ice\");\n",
    "Console.WriteLine(\"Does 'Supercalifragilisticexpialidocious' contain 'ice' as a substring? \" + containsIce);\n",
    "\n",
    "string wordOne = \"Supercalifragilisticexpialidocious\";\n",
    "string wordTwo = \"Honorificabilitudinitatibus\";\n",
    "string wordThree = \"Bababadalgharaghtakamminarronnkonn\";\n",
    "\n",
    "int lengthOne = wordOne.Length;\n",
    "int lengthTwo = wordTwo.Length;\n",
    "int lengthThree = wordThree.Length;\n",
    "\n",
    "string longestWord = (lengthOne > lengthTwo) ? ((lengthOne > lengthThree) ? wordOne : wordThree) : ((lengthTwo > lengthThree) ? wordTwo : wordThree);\n",
    "Console.WriteLine(\"The longest word is: \" + longestWord);\n",
    "\n",
    "List<string> composers = new List<string> { \"Berlioz\", \"Borodin\", \"Brian\", \"Bartok\", \"Bellini\", \"Buxtehude\", \"Bernstein\" };\n",
    "composers.Sort();\n",
    "\n",
    "Console.WriteLine(\"The first composer in the dictionary is: \" + composers[0]);\n",
    "Console.WriteLine(\"The last composer in the dictionary is: \" + composers[composers.Count - 1]);\n",
    "\n"
   ]
  },
  {
   "cell_type": "code",
   "execution_count": 1,
   "id": "f559d7ed",
   "metadata": {},
   "outputs": [
    {
     "name": "stdout",
     "output_type": "stream",
     "text": [
      "1.7320508075688772\r\n"
     ]
    }
   ],
   "source": [
    "//Question 3\n",
    " {\n",
    "            Console.WriteLine(triangleArea(2, 2, 2));\n",
    "        }\n",
    "\n",
    "        static double triangleArea(double a, double b, double c)\n",
    "        {\n",
    "            double s = (a + b + c) / 2;\n",
    "            return Math.Sqrt(s * (s - a) * (s - b) * (s - c));\n",
    "        }"
   ]
  },
  {
   "cell_type": "code",
   "execution_count": 10,
   "id": "30205b40",
   "metadata": {},
   "outputs": [
    {
     "name": "stdout",
     "output_type": "stream",
     "text": [
      "Input the number of elements to be stored in the array\r\n"
     ]
    }
   ],
   "source": [
    "//Question 4\n",
    "Console.WriteLine(\"Input the number of elements to be stored in the array\");\n",
    "int n = int.Parse(Console.ReadLine());\n",
    "int[] arr = new int[n];\n",
    "for (int i = 0; i < n; i++)\n",
    "{\n",
    "    Console.WriteLine(\"Enter element - \" + i + \": \");\n",
    "    arr[i] = int.Parse(Console.ReadLine());\n",
    "}\n",
    "List<int> evenNumbers = new List<int>();\n",
    "List<int> oddNumbers = new List<int>();\n",
    "foreach (int number in arr)\n",
    "{\n",
    "    if (number % 2 == 0)\n",
    "    {\n",
    "        evenNumbers.Add(number);\n",
    "    }\n",
    "    else\n",
    "    {\n",
    "        oddNumbers.Add(number);\n",
    "    }\n",
    "}\n",
    "Console.WriteLine(\"The Even elements are: \");\n",
    "foreach (int even in evenNumbers)\n",
    "{\n",
    "    Console.Write(even + \" \");\n",
    "}\n",
    "Console.WriteLine();\n",
    "\n",
    "Console.WriteLine(\"The Odd elements are: \");\n",
    "foreach (int odd in oddNumbers)\n",
    "{\n",
    "    Console.Write(odd + \" \");\n",
    "}\n"
   ]
  },
  {
   "cell_type": "code",
   "execution_count": 18,
   "id": "4efec0ee",
   "metadata": {},
   "outputs": [
    {
     "name": "stdout",
     "output_type": "stream",
     "text": [
      "The point (1, 1) does not lie inside both rectangles.\r\n"
     ]
    }
   ],
   "source": [
    "//Question 5\n",
    "\n",
    "bool inside(double x, double y, double x1, double y1, double x2, double y2)\n",
    "{\n",
    " if (x >= x1 && x <= x2 && y >= y1 && y <= y2)\n",
    "    {\n",
    "        return true;\n",
    "    }\n",
    "    else\n",
    "    {\n",
    "        return false;\n",
    " }\n",
    "}\n",
    "\n",
    "bool insideRect1 = inside(1, 1, 0.3, 0.5, 1.1, 0.7);\n",
    "bool insideRect2 = inside(1, 1, 0.5, 0.2, 1.1, 2);\n",
    "\n",
    "if (insideRect1 && insideRect2) {\n",
    "    Console.WriteLine(\"The point (1, 1) lies inside both rectangles.\");\n",
    "} else {\n",
    "    Console.WriteLine(\"The point (1, 1) does not lie inside both rectangles.\");\n",
    "}\n",
    "            \n",
    "       \n"
   ]
  }
 ],
 "metadata": {
  "kernelspec": {
   "display_name": ".NET (C#)",
   "language": "C#",
   "name": ".net-csharp"
  },
  "language_info": {
   "file_extension": ".cs",
   "mimetype": "text/x-csharp",
   "name": "C#",
   "pygments_lexer": "csharp",
   "version": "8.0"
  }
 },
 "nbformat": 4,
 "nbformat_minor": 5
}
